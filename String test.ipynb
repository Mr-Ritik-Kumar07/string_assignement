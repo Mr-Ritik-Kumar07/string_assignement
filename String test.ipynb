{
 "cells": [
  {
   "cell_type": "markdown",
   "id": "77501399-9b4c-4b8b-87fb-c3590b47dac3",
   "metadata": {},
   "source": [
    "#1. How do you concatenate two strings in Python?"
   ]
  },
  {
   "cell_type": "code",
   "execution_count": 1,
   "id": "d3802788-97af-4e44-bf42-9ba9dcb718bc",
   "metadata": {},
   "outputs": [
    {
     "name": "stdout",
     "output_type": "stream",
     "text": [
      "ritik kumar\n"
     ]
    }
   ],
   "source": [
    "frist_name = \"ritik\"\n",
    "last_name = \"kumar\"\n",
    "result = frist_name+\" \"+last_name\n",
    "print(result)"
   ]
  },
  {
   "cell_type": "markdown",
   "id": "50b67e37-0447-4cf8-85fa-a540640267fa",
   "metadata": {},
   "source": [
    "#2. What is the difference between the + operator and the join() method for\n"
   ]
  },
  {
   "cell_type": "code",
   "execution_count": 3,
   "id": "b05f4c82-3dde-4054-bd67-782fb243fcfd",
   "metadata": {},
   "outputs": [
    {
     "name": "stdout",
     "output_type": "stream",
     "text": [
      "apple+mango+orange\n"
     ]
    }
   ],
   "source": [
    "fruit_name = [\"apple\",\"mango\",\"orange\"]\n",
    "result =\"+\".join(fruit_name)\n",
    "print(result)"
   ]
  },
  {
   "cell_type": "markdown",
   "id": "e21b85bc-4dbf-4d64-a9a0-313f58ff63c0",
   "metadata": {},
   "source": [
    "#3. How do you access individual characters in a string?\n"
   ]
  },
  {
   "cell_type": "code",
   "execution_count": 9,
   "id": "0574ced3-0a0f-44ff-98d9-bfcdf3473b4d",
   "metadata": {},
   "outputs": [
    {
     "name": "stdout",
     "output_type": "stream",
     "text": [
      "r\n",
      "i\n"
     ]
    }
   ],
   "source": [
    "my_name = \"ritik\"\n",
    "print(my_name[0])\n",
    "print(my_name[1])"
   ]
  },
  {
   "cell_type": "markdown",
   "id": "9b106c98-6427-4341-ba20-aa67b3dc84a8",
   "metadata": {},
   "source": [
    "#4. What method is used to find the length of a string in Python?"
   ]
  },
  {
   "cell_type": "code",
   "execution_count": 10,
   "id": "c8527f30-c904-4ef5-b8b3-9774a02e65aa",
   "metadata": {},
   "outputs": [
    {
     "name": "stdout",
     "output_type": "stream",
     "text": [
      "5\n"
     ]
    }
   ],
   "source": [
    "my_name = \"ritik\"\n",
    "print(len(my_name))"
   ]
  },
  {
   "cell_type": "markdown",
   "id": "13f657b6-a007-4c29-b489-76471a725ed3",
   "metadata": {},
   "source": [
    "#5. How can you convert a string to uppercase in Python?"
   ]
  },
  {
   "cell_type": "code",
   "execution_count": 11,
   "id": "0d69c970-15fe-4e39-a82f-c13e40d59849",
   "metadata": {},
   "outputs": [
    {
     "name": "stdout",
     "output_type": "stream",
     "text": [
      "SUDHANSHU\n"
     ]
    }
   ],
   "source": [
    "my_name = \"sudhanshu\"\n",
    "print(my_name.upper())"
   ]
  },
  {
   "cell_type": "markdown",
   "id": "8cbc4e23-fed5-4643-acd8-321a717ea87d",
   "metadata": {},
   "source": [
    "#6. How can you convert a string to lowercase in Python?"
   ]
  },
  {
   "cell_type": "code",
   "execution_count": 14,
   "id": "48084866-310b-4a9c-ad67-59ca8ae7c86b",
   "metadata": {},
   "outputs": [
    {
     "name": "stdout",
     "output_type": "stream",
     "text": [
      "shubham\n"
     ]
    }
   ],
   "source": [
    "my_name = \"SHUBHAM\"\n",
    "print(my_name.lower())"
   ]
  },
  {
   "cell_type": "markdown",
   "id": "906944f2-4222-4f7e-8d7b-8749abb76504",
   "metadata": {},
   "source": [
    "#7.What method is used to replace substrings within a string?"
   ]
  },
  {
   "cell_type": "code",
   "execution_count": 2,
   "id": "a0d4a594-a90e-4527-9fed-e3a5fdb24c8f",
   "metadata": {},
   "outputs": [
    {
     "name": "stdout",
     "output_type": "stream",
     "text": [
      "hello , World\n"
     ]
    }
   ],
   "source": [
    "my_string = \"hello , World\"\n",
    "new_string = my_string.replace(\"world\", \"python\")\n",
    "print(new_string)"
   ]
  },
  {
   "cell_type": "markdown",
   "id": "6e171b5b-9d1d-418d-a8cb-9799fa542ce1",
   "metadata": {},
   "source": [
    "#8. How can you split a string into a list of substrings based on a delimiter?"
   ]
  },
  {
   "cell_type": "code",
   "execution_count": 18,
   "id": "ecef40c1-2293-45b3-b537-2c169fa016e6",
   "metadata": {},
   "outputs": [
    {
     "name": "stdout",
     "output_type": "stream",
     "text": [
      "['rohit', 'virat', 'dhoni', 'ishan']\n"
     ]
    }
   ],
   "source": [
    "my_player = \"rohit,virat,dhoni,ishan\"\n",
    "player = my_player.split(\",\")\n",
    "print(player)"
   ]
  },
  {
   "cell_type": "markdown",
   "id": "f1e7f870-0150-43c8-99fd-f40d624b97d4",
   "metadata": {},
   "source": [
    "#9. How do you check if a string starts with a particular substring?"
   ]
  },
  {
   "cell_type": "code",
   "execution_count": 1,
   "id": "e7a918e7-6f71-44db-bd28-68142ac10dfa",
   "metadata": {},
   "outputs": [
    {
     "name": "stdout",
     "output_type": "stream",
     "text": [
      "False\n"
     ]
    }
   ],
   "source": [
    "my_state = \"Bihar\"\n",
    "print(my_state.startswith(\"r\"))"
   ]
  },
  {
   "cell_type": "markdown",
   "id": "ed947535-67e3-488b-816f-8f4c7423d056",
   "metadata": {},
   "source": [
    "#10. How do you check if a string ends with a particular substring?"
   ]
  },
  {
   "cell_type": "code",
   "execution_count": 21,
   "id": "de63d09d-936e-403b-850b-9882c3628745",
   "metadata": {},
   "outputs": [
    {
     "name": "stdout",
     "output_type": "stream",
     "text": [
      "False\n"
     ]
    }
   ],
   "source": [
    "my_state = \"delhi\"\n",
    "print(my_state.endswith(\"r\"))"
   ]
  },
  {
   "cell_type": "markdown",
   "id": "eb5344a6-6d74-4e36-92ad-3a55ef79cc81",
   "metadata": {},
   "source": [
    "#11. How can you remove leading and trailing whitespace from a string?"
   ]
  },
  {
   "cell_type": "code",
   "execution_count": 23,
   "id": "af509feb-2ffb-4a4b-84bb-c5e1bf7b0bc2",
   "metadata": {},
   "outputs": [
    {
     "name": "stdout",
     "output_type": "stream",
     "text": [
      "hello, india\n"
     ]
    }
   ],
   "source": [
    "my_string = \"hello, india\"\n",
    "result = my_string.strip()\n",
    "print(result)"
   ]
  },
  {
   "cell_type": "markdown",
   "id": "e3d950e8-a611-4a6a-bd1d-d1d2b1c0c22a",
   "metadata": {},
   "source": [
    "#12. What method is used to find the index of the first occurrence of a substring within a string?"
   ]
  },
  {
   "cell_type": "code",
   "execution_count": 25,
   "id": "5387140b-9621-40da-be19-00dc59c7152a",
   "metadata": {},
   "outputs": [
    {
     "name": "stdout",
     "output_type": "stream",
     "text": [
      "6\n"
     ]
    }
   ],
   "source": [
    "my_string = \"hello india\"\n",
    "result = my_string.find(\"india\")\n",
    "print(result)"
   ]
  },
  {
   "cell_type": "markdown",
   "id": "270f49d8-3268-40cb-986b-27289b15b97f",
   "metadata": {},
   "source": [
    "#13. How can you count the number of occurrences of a substring within a string?"
   ]
  },
  {
   "cell_type": "code",
   "execution_count": 1,
   "id": "0ba49284-033d-49f9-866f-ce53fcf9248e",
   "metadata": {},
   "outputs": [
    {
     "name": "stdout",
     "output_type": "stream",
     "text": [
      "2\n"
     ]
    }
   ],
   "source": [
    "my_string = \"ritik\"\n",
    "result = my_string.count(\"i\")\n",
    "print(result)"
   ]
  },
  {
   "cell_type": "markdown",
   "id": "9d631853-8b25-4434-80db-97c9536c83f0",
   "metadata": {},
   "source": [
    "#14. How do you check if a string contains only alphabetic characters?"
   ]
  },
  {
   "cell_type": "code",
   "execution_count": 2,
   "id": "ed792089-8e9d-485a-b1ae-cfc814b0cd7f",
   "metadata": {},
   "outputs": [
    {
     "name": "stdout",
     "output_type": "stream",
     "text": [
      "True\n"
     ]
    }
   ],
   "source": [
    "my_string = \"ritik\"\n",
    "print(my_string.isalpha())"
   ]
  },
  {
   "cell_type": "markdown",
   "id": "cad7e3a4-f968-471e-b8cb-c81e6776507a",
   "metadata": {},
   "source": [
    "#15. How do you check if a string contains only numeric characters?"
   ]
  },
  {
   "cell_type": "code",
   "execution_count": 3,
   "id": "e9908097-afac-4df2-bda2-205c0d20e270",
   "metadata": {},
   "outputs": [
    {
     "name": "stdout",
     "output_type": "stream",
     "text": [
      "True\n"
     ]
    }
   ],
   "source": [
    "my_number = \"5699565\"\n",
    "print(my_number.isnumeric())"
   ]
  },
  {
   "cell_type": "markdown",
   "id": "7b2447e5-2294-4f3e-a7cf-6a414e3c0d2b",
   "metadata": {},
   "source": [
    "#16. How can you check if a string is a palindrome?"
   ]
  },
  {
   "cell_type": "code",
   "execution_count": null,
   "id": "3c24e631-28b5-4bc6-8495-1bd3efe67c4b",
   "metadata": {},
   "outputs": [],
   "source": []
  },
  {
   "cell_type": "markdown",
   "id": "b5ea30e3-71b3-45d5-be26-8757b16883cf",
   "metadata": {},
   "source": [
    "#17. How can you reverse a string in Python?"
   ]
  },
  {
   "cell_type": "code",
   "execution_count": null,
   "id": "861951e6-7b5e-4946-86d1-23dac86826bb",
   "metadata": {},
   "outputs": [],
   "source": [
    "my_string = [\"ritik,kumar,singh\"]\n",
    "print(my_string.reverse())\n",
    "print(my_string)"
   ]
  },
  {
   "cell_type": "markdown",
   "id": "e97c7b17-7040-426a-be41-ede306533918",
   "metadata": {},
   "source": [
    "#18. How do you format a string with placeholders for variable values?\n"
   ]
  },
  {
   "cell_type": "code",
   "execution_count": 9,
   "id": "3d908dac-5e28-4d1b-80e6-335981176228",
   "metadata": {},
   "outputs": [
    {
     "name": "stdout",
     "output_type": "stream",
     "text": [
      "Hello, my name is ritik and I am 22 years old.\n"
     ]
    }
   ],
   "source": [
    "name = \"ritik\"\n",
    "age = 22\n",
    "message = f\"Hello, my name is {name} and I am {age} years old.\"\n",
    "print(message)"
   ]
  },
  {
   "cell_type": "markdown",
   "id": "8c1b5625-7b49-40f9-bfe6-818b4f408257",
   "metadata": {},
   "source": [
    "#19. How do you access a substring of a string using slicing?"
   ]
  },
  {
   "cell_type": "code",
   "execution_count": 11,
   "id": "e3299373-007c-48aa-bb99-33df8ffd93c0",
   "metadata": {},
   "outputs": [
    {
     "name": "stdout",
     "output_type": "stream",
     "text": [
      "Hello\n"
     ]
    }
   ],
   "source": [
    "my_string = \"Hello, world!\"\n",
    "substring = my_string[0:5]\n",
    "print(substring)"
   ]
  },
  {
   "cell_type": "markdown",
   "id": "d04e9c57-ef6f-4803-bb57-d1fad951cf94",
   "metadata": {},
   "source": [
    "#20. How can you remove specific characters from a string in Python"
   ]
  },
  {
   "cell_type": "code",
   "execution_count": 12,
   "id": "88ccbfbb-ccc9-4114-a5bc-85e8e7f90317",
   "metadata": {},
   "outputs": [
    {
     "name": "stdout",
     "output_type": "stream",
     "text": [
      "Hello world!\n"
     ]
    }
   ],
   "source": [
    "text = \"Hello, world!\"\n",
    "new_text = text.replace(\",\", \"\") \n",
    "print(new_text)"
   ]
  },
  {
   "cell_type": "code",
   "execution_count": null,
   "id": "44d59816-d4c7-4887-b274-cf80bf19282f",
   "metadata": {},
   "outputs": [],
   "source": []
  }
 ],
 "metadata": {
  "kernelspec": {
   "display_name": "Python 3 (ipykernel)",
   "language": "python",
   "name": "python3"
  },
  "language_info": {
   "codemirror_mode": {
    "name": "ipython",
    "version": 3
   },
   "file_extension": ".py",
   "mimetype": "text/x-python",
   "name": "python",
   "nbconvert_exporter": "python",
   "pygments_lexer": "ipython3",
   "version": "3.12.7"
  }
 },
 "nbformat": 4,
 "nbformat_minor": 5
}
